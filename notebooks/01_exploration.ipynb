{
 "cells": [
  {
   "cell_type": "code",
   "execution_count": 2,
   "id": "a9f8ecce",
   "metadata": {},
   "outputs": [
    {
     "name": "stdout",
     "output_type": "stream",
     "text": [
      "Current working directory: c:\\Users\\onyer\\OneDrive\\Documents\\Training\\recommender system\n"
     ]
    }
   ],
   "source": [
    "import os\n",
    "\n",
    "# Change to the parent directory\n",
    "os.chdir('..')\n",
    "\n",
    "# Verify the path using getcwd()\n",
    "cwd = os.getcwd()\n",
    "print(\"Current working directory:\", cwd)"
   ]
  },
  {
   "cell_type": "code",
   "execution_count": 3,
   "id": "2d8f7926",
   "metadata": {},
   "outputs": [],
   "source": [
    "import pandas as pd"
   ]
  },
  {
   "cell_type": "code",
   "execution_count": 4,
   "id": "0a681d5b",
   "metadata": {},
   "outputs": [
    {
     "name": "stdout",
     "output_type": "stream",
     "text": [
      "       timestamp  visitorid event  itemid  transactionid\n",
      "0  1433221332117     257597  view  355908            NaN\n",
      "1  1433224214164     992329  view  248676            NaN\n",
      "2  1433221999827     111016  view  318965            NaN\n",
      "3  1433221955914     483717  view  253185            NaN\n",
      "4  1433221337106     951259  view  367447            NaN\n",
      "event\n",
      "view           2664312\n",
      "addtocart        69332\n",
      "transaction      22457\n",
      "Name: count, dtype: int64\n",
      "Processed 2756101 events across 1407580 users.\n"
     ]
    }
   ],
   "source": [
    "# Load events data\n",
    "events_path = 'data/raw/events.csv'\n",
    "events = pd.read_csv(events_path)\n",
    "\n",
    "# Preview\n",
    "print(events.head())\n",
    "print(events['event'].value_counts())\n",
    "\n",
    "# Convert timestamp to datetime\n",
    "events['timestamp'] = pd.to_datetime(events['timestamp'], unit='ms')\n",
    "\n",
    "# Filter: Keep only valid events (view, addtocart, transaction)\n",
    "valid_events = ['view', 'addtocart', 'transaction']\n",
    "events = events[events['event'].isin(valid_events)]\n",
    "\n",
    "# Sort by time for later session-based logic\n",
    "events.sort_values(by=['visitorid', 'timestamp'], inplace=True)\n",
    "events.reset_index(drop=True, inplace=True)\n",
    "\n",
    "# Save processed version\n",
    "events.to_csv('data/processed/events_cleaned.csv', index=False)\n",
    "\n",
    "print(f\"Processed {len(events)} events across {events['visitorid'].nunique()} users.\")\n"
   ]
  }
 ],
 "metadata": {
  "kernelspec": {
   "display_name": "recommender_env",
   "language": "python",
   "name": "python3"
  },
  "language_info": {
   "codemirror_mode": {
    "name": "ipython",
    "version": 3
   },
   "file_extension": ".py",
   "mimetype": "text/x-python",
   "name": "python",
   "nbconvert_exporter": "python",
   "pygments_lexer": "ipython3",
   "version": "3.12.5"
  }
 },
 "nbformat": 4,
 "nbformat_minor": 5
}
